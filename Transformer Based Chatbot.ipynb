{
 "cells": [
  {
   "cell_type": "markdown",
   "metadata": {},
   "source": [
    "This is a pet project where I will be trying to build a chatbot using a transformer architecture based neural network. I'll be using the famous [Cornell Movie Dialog Dataset](https://www.cs.cornell.edu/~cristian/Cornell_Movie-Dialogs_Corpus.html) to train my model. Lets see how it goes"
   ]
  },
  {
   "cell_type": "code",
   "execution_count": 7,
   "metadata": {},
   "outputs": [],
   "source": [
    "# Importing some pretty important dependencies\n",
    "import tensorflow as tf\n",
    "assert tf.__version__.startswith('2')\n",
    "\n",
    "import tensorflow_datasets as tfds\n",
    "\n",
    "import os\n",
    "import re\n",
    "import numpy as np\n",
    "import pickle\n",
    "\n",
    "import matplotlib.pyplot as plt\n",
    "tf.random.set_seed(1234)\n"
   ]
  },
  {
   "cell_type": "markdown",
   "metadata": {},
   "source": [
    "#### Download Data"
   ]
  },
  {
   "cell_type": "code",
   "execution_count": 12,
   "metadata": {},
   "outputs": [
    {
     "name": "stdout",
     "output_type": "stream",
     "text": [
      "C:\\Users\\ameys\\.keras\\datasets\\cornell movie-dialogs corpus\n"
     ]
    }
   ],
   "source": [
    "# Need to download the dataset and save it offile for the first time\n",
    "# Keras utils have very useful functions and get_file is one of them.\n",
    "# Function brings the file and stores in cache(temp) directory.\n",
    "zip_path = tf.keras.utils.get_file(fname='cornell_movie_dialogs.zip',\n",
    "    origin='http://www.cs.cornell.edu/~cristian/data/cornell_movie_dialogs_corpus.zip',\n",
    "    extract=True)\n",
    "\n",
    "# Follow thedirectory structure to the input files\n",
    "dataset_path = os.path.join(\n",
    "    os.path.dirname(zip_path), \"cornell movie-dialogs corpus\")\n",
    "print(dataset_path)"
   ]
  },
  {
   "cell_type": "code",
   "execution_count": 21,
   "metadata": {},
   "outputs": [
    {
     "name": "stdout",
     "output_type": "stream",
     "text": [
      "C:\\Users\\ameys\\.keras\\datasets\\cornell movie-dialogs corpus\\movie_lines.txt \n",
      "C:\\Users\\ameys\\.keras\\datasets\\cornell movie-dialogs corpus\\movie_conversations.txt\n"
     ]
    }
   ],
   "source": [
    "movie_lines_path = os.path.join(dataset_path, 'movie_lines.txt')\n",
    "movie_conversations_path = os.path.join(dataset_path, \"movie_conversations.txt\")\n",
    "print(movie_lines_path, \"\\n\"+movie_conversations_path)"
   ]
  },
  {
   "cell_type": "markdown",
   "metadata": {},
   "source": [
    "#### Processing Data"
   ]
  },
  {
   "cell_type": "markdown",
   "metadata": {},
   "source": [
    "**Below are the steps that I am going to follow to preprocess the data**\n",
    "\n",
    "    -Process each input text and remove all the special characters except for .,!\n",
    "    \n",
    "    -Build a tokenizer \n",
    "    \n",
    "    -Tokenize each input and also add a START and END token\n",
    "    \n",
    "    -Choose a MAX_LENGTH and pad/strip the inputs accordingly\n",
    "    "
   ]
  },
  {
   "cell_type": "code",
   "execution_count": 76,
   "metadata": {},
   "outputs": [],
   "source": [
    "MAX_SAMPLES = 100000\n",
    "def process_text(text):\n",
    "    text = text.lower().strip()\n",
    "    # creating a space between a word and the punctuation following it\n",
    "    # eg: \"he is a boy.\" => \"he is a boy .\"\n",
    "    text = re.sub(r\"([?.!,])\", r\" \\1 \", text)\n",
    "    # replacing everything with space except (a-z, A-Z, \".\", \"?\", \"!\", \",\")\n",
    "    text = re.sub(r\"[^a-zA-Z0-9?.,!]+\", \" \", text)\n",
    "    text = re.sub(r\"\\s+\", \" \", text)\n",
    "    return text.strip()\n",
    "\n",
    "def load_data():\n",
    "    id2line = {}\n",
    "    with open(movie_lines_path, errors='ignore') as fp:\n",
    "        for line in fp.readlines():\n",
    "            parts = line.replace('\\n', '').split(' +++$+++ ')\n",
    "            id2line[parts[0]] = parts[4]\n",
    "\n",
    "    inputs, outputs = [], []\n",
    "    with open(movie_conversations_path, 'r') as fp:\n",
    "        for line in fp.readlines():\n",
    "            parts = line.replace('\\n', '').split(' +++$+++ ')\n",
    "            # get conversation in a list of line ID\n",
    "            conversation = [line[1:-1] for line in parts[3][1:-1].split(', ')]\n",
    "            for i in range(len(conversation) - 1):\n",
    "                inputs.append(process_text(id2line[conversation[i]]))\n",
    "                outputs.append(process_text(id2line[conversation[i + 1]]))\n",
    "            if len(inputs) > MAX_SAMPLES:\n",
    "                return inputs, outputs\n",
    "            \n",
    "questions, answers = load_data()"
   ]
  },
  {
   "cell_type": "code",
   "execution_count": 77,
   "metadata": {},
   "outputs": [
    {
     "name": "stdout",
     "output_type": "stream",
     "text": [
      "Sample question: i should not even be listening to you , since my council said no . but santangel tells me you are a man of honor and sincerity . . . and sanchez , that you are not a fool .\n",
      "Sample answer: no more than the woman who said she would take granada from the moors .\n"
     ]
    }
   ],
   "source": [
    "print('Sample question: {}'.format(questions[595]))\n",
    "print('Sample answer: {}'.format(answers[595]))"
   ]
  },
  {
   "cell_type": "code",
   "execution_count": 78,
   "metadata": {},
   "outputs": [],
   "source": [
    "# Build a tokenizer with the vocabulary in both questions and answers\n",
    "tokenizer = tfds.features.text.SubwordTextEncoder.build_from_corpus(questions + answers, \n",
    "                                                                    target_vocab_size=2**13)"
   ]
  },
  {
   "cell_type": "code",
   "execution_count": 79,
   "metadata": {},
   "outputs": [],
   "source": [
    "# Define start and end token to indicate the start and end of a sentence\n",
    "START_TOKEN, END_TOKEN = [tokenizer.vocab_size], [tokenizer.vocab_size + 1]\n",
    "\n",
    "# Vocabulary size plus start and end token\n",
    "VOCAB_SIZE = tokenizer.vocab_size + 2"
   ]
  },
  {
   "cell_type": "code",
   "execution_count": 80,
   "metadata": {},
   "outputs": [
    {
     "name": "stdout",
     "output_type": "stream",
     "text": [
      "MEAN:  [39.]\n"
     ]
    },
    {
     "data": {
      "image/png": "[encoded data removed]",
      "text/plain": [
       "<Figure size 432x288 with 1 Axes>"
      ]
     },
     "metadata": {
      "needs_background": "light"
     },
     "output_type": "display_data"
    }
   ],
   "source": [
    "# Setting Maximum Sequence Length\n",
    "input_lengths = [len(text.split()) for text in questions+answers]\n",
    "plt.hist(input_lengths, bins = 100, histtype='step', label='Sequence Length Distribution')\n",
    "plt.axvline(np.quantile(input_lengths, [0.95]))\n",
    "plt.legend();\n",
    "print(\"MEAN: \",np.quantile(input_lengths, [0.95]))"
   ]
  },
  {
   "cell_type": "code",
   "execution_count": 81,
   "metadata": {},
   "outputs": [],
   "source": [
    "# If we set the sequence length to 40 words then we can consider 95% of data without stripping"
   ]
  },
  {
   "cell_type": "code",
   "execution_count": 82,
   "metadata": {},
   "outputs": [],
   "source": [
    "# Maximum sentence length\n",
    "MAX_LENGTH = 40\n",
    "\n",
    "\n",
    "# Tokenize, filter and pad sentences\n",
    "def tokenize_and_filter(inputs, outputs):\n",
    "    tokenized_inputs, tokenized_outputs = [], []\n",
    "\n",
    "    for (sentence1, sentence2) in zip(inputs, outputs):\n",
    "        # tokenize sentence\n",
    "        sentence1 = START_TOKEN + tokenizer.encode(sentence1) + END_TOKEN\n",
    "        sentence2 = START_TOKEN + tokenizer.encode(sentence2) + END_TOKEN\n",
    "        tokenized_inputs.append(sentence1)\n",
    "        tokenized_outputs.append(sentence2)\n",
    "        \n",
    "    # pad tokenized sentences\n",
    "    tokenized_inputs = tf.keras.preprocessing.sequence.pad_sequences(tokenized_inputs,\n",
    "                                                                     maxlen=MAX_LENGTH,\n",
    "                                                                     truncating='post',\n",
    "                                                                     padding='post',\n",
    "                                                                    )\n",
    "    tokenized_outputs = tf.keras.preprocessing.sequence.pad_sequences(tokenized_outputs,\n",
    "                                                                      maxlen=MAX_LENGTH,\n",
    "                                                                      padding='post',\n",
    "                                                                      truncating='post',\n",
    "                                                                     )\n",
    "\n",
    "    return tokenized_inputs, tokenized_outputs\n",
    "\n",
    "questions, answers = tokenize_and_filter(questions, answers)"
   ]
  },
  {
   "cell_type": "code",
   "execution_count": 83,
   "metadata": {},
   "outputs": [
    {
     "name": "stdout",
     "output_type": "stream",
     "text": [
      "Vocab size: 8212\n",
      "Number of samples: 100003\n"
     ]
    }
   ],
   "source": [
    "print('Vocab size: {}'.format(VOCAB_SIZE))\n",
    "print('Number of samples: {}'.format(len(questions)))"
   ]
  },
  {
   "cell_type": "markdown",
   "metadata": {},
   "source": [
    "#### Create a Tensorflow Dataset"
   ]
  },
  {
   "cell_type": "code",
   "execution_count": 89,
   "metadata": {},
   "outputs": [
    {
     "name": "stdout",
     "output_type": "stream",
     "text": [
      "<PrefetchDataset shapes: ({inputs: (None, 40), dec_inputs: (None, 39)}, {outputs: (None, 39)}), types: ({inputs: tf.int32, dec_inputs: tf.int32}, {outputs: tf.int32})>\n"
     ]
    }
   ],
   "source": [
    "BATCH_SIZE = 128\n",
    "BUFFER_SIZE = 30000\n",
    "\n",
    "# decoder inputs use the previous target as input\n",
    "# removing the END_TOKEN from answers\n",
    "# removing START_TOKEN from targets\n",
    "dataset = tf.data.Dataset.from_tensor_slices((\n",
    "    {\n",
    "        'inputs': questions,\n",
    "        'dec_inputs': answers[:, :-1]\n",
    "    },\n",
    "    {\n",
    "        'outputs': answers[:, 1:]\n",
    "    },\n",
    "))\n",
    "\n",
    "\n",
    "dataset = dataset.cache()\n",
    "dataset = dataset.shuffle(BUFFER_SIZE)\n",
    "dataset = dataset.batch(BATCH_SIZE)\n",
    "dataset = dataset.prefetch(tf.data.experimental.AUTOTUNE)\n",
    "\n",
    "print(dataset)"
   ]
  },
  {
   "cell_type": "markdown",
   "metadata": {},
   "source": [
    "#### Building a Scaled dot product Attention mechanism"
   ]
  },
  {
   "cell_type": "code",
   "execution_count": 90,
   "metadata": {},
   "outputs": [],
   "source": [
    "\"\"\"\n",
    "Scaled dot product attention mechanism has 3 inputs Query(Q), Key(K) and Value(V).\n",
    "\n",
    "Among these 3 inputs firstly, Q and K^T undergo a dot product\n",
    "\n",
    "the result of dot product is scaled by dividing with sqrt(dimensions)\n",
    "\n",
    "the scaled result is them passed through a softmax function which yields the attension weights \n",
    "for each word with rest of the words in that input sequence.\n",
    "\n",
    "At the end the attention weights undergo dot product with the V\n",
    "\"\"\"\n",
    "def scaled_dot_product_attention(query, key, value, mask):\n",
    "    \"\"\"Calculate the attention weights. \"\"\"\n",
    "    matmul_qk = tf.matmul(query, key, transpose_b=True)\n",
    "\n",
    "    # scale matmul_qk\n",
    "    depth = tf.cast(tf.shape(key)[-1], tf.float32)\n",
    "    logits = matmul_qk / tf.math.sqrt(depth)\n",
    "\n",
    "    # add the mask to zero out padding tokens\n",
    "    if mask is not None:\n",
    "        logits += (mask * -1e9)\n",
    "\n",
    "    # softmax is normalized on the last axis (seq_len_k)\n",
    "    attention_weights = tf.nn.softmax(logits, axis=-1)\n",
    "\n",
    "    output = tf.matmul(attention_weights, value)\n",
    "\n",
    "    return output"
   ]
  },
  {
   "cell_type": "code",
   "execution_count": null,
   "metadata": {},
   "outputs": [],
   "source": []
  }
 ],
 "metadata": {
  "kernelspec": {
   "display_name": "Python 3",
   "language": "python",
   "name": "python3"
  },
  "language_info": {
   "codemirror_mode": {
    "name": "ipython",
    "version": 3
   },
   "file_extension": ".py",
   "mimetype": "text/x-python",
   "name": "python",
   "nbconvert_exporter": "python",
   "pygments_lexer": "ipython3",
   "version": "3.7.6"
  }
 },
 "nbformat": 4,
 "nbformat_minor": 4
}
